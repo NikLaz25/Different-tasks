{
 "cells": [
  {
   "cell_type": "markdown",
   "metadata": {},
   "source": [
    "### Импортируем библиотеки, настраиваем отображение таблиц"
   ]
  },
  {
   "cell_type": "code",
   "execution_count": 1,
   "metadata": {},
   "outputs": [],
   "source": [
    "import numpy as np\n",
    "import pandas as pd"
   ]
  },
  {
   "cell_type": "code",
   "execution_count": 2,
   "metadata": {},
   "outputs": [],
   "source": [
    "pd.options.display.max_columns = 100"
   ]
  },
  {
   "cell_type": "markdown",
   "metadata": {},
   "source": [
    "### Загружаем данные 20 и 21 г"
   ]
  },
  {
   "cell_type": "code",
   "execution_count": 3,
   "metadata": {},
   "outputs": [],
   "source": [
    "file_20 = 'C:/Users/lazarevnv/Desktop///Sales_from_01.01.2020_to_31.12.2020_on_18.01.2022_14_43_30.txt'\n",
    "file_21 = 'C:/Users/lazarevnv/Desktop////Sales_from_01.01.2021_to_31.12.2021_on_18.01.2022_15_04_15.txt'"
   ]
  },
  {
   "cell_type": "code",
   "execution_count": 4,
   "metadata": {},
   "outputs": [],
   "source": [
    "df_20 = pd.read_csv(file_20, sep='\\t', decimal=',', encoding = 'cp1251')"
   ]
  },
  {
   "cell_type": "code",
   "execution_count": 5,
   "metadata": {},
   "outputs": [],
   "source": [
    "df_21 = pd.read_csv(file_21, sep='\\t', encoding = 'cp1251', decimal=',')"
   ]
  },
  {
   "cell_type": "code",
   "execution_count": 6,
   "metadata": {},
   "outputs": [
    {
     "data": {
      "text/plain": [
       "((1866482, 12), (1859143, 12))"
      ]
     },
     "execution_count": 6,
     "metadata": {},
     "output_type": "execute_result"
    }
   ],
   "source": [
    "df_20.shape, df_21.shape"
   ]
  },
  {
   "cell_type": "code",
   "execution_count": 8,
   "metadata": {},
   "outputs": [],
   "source": [
    "# df_20.info()"
   ]
  },
  {
   "cell_type": "code",
   "execution_count": 52,
   "metadata": {},
   "outputs": [],
   "source": [
    "# df_21.info()"
   ]
  },
  {
   "cell_type": "code",
   "execution_count": 12,
   "metadata": {},
   "outputs": [],
   "source": [
    "# df_20.head(2)"
   ]
  },
  {
   "cell_type": "code",
   "execution_count": 11,
   "metadata": {},
   "outputs": [],
   "source": [
    "# df_21.head(2)"
   ]
  },
  {
   "cell_type": "code",
   "execution_count": 13,
   "metadata": {},
   "outputs": [],
   "source": [
    "df = pd.concat((df_20, df_21), axis = 0)"
   ]
  },
  {
   "cell_type": "code",
   "execution_count": 18,
   "metadata": {},
   "outputs": [],
   "source": [
    "# df['Distributor'].unique()"
   ]
  },
  {
   "cell_type": "code",
   "execution_count": 14,
   "metadata": {},
   "outputs": [
    {
     "data": {
      "text/plain": [
       "(3725625, 12)"
      ]
     },
     "execution_count": 14,
     "metadata": {},
     "output_type": "execute_result"
    }
   ],
   "source": [
    "df.shape"
   ]
  },
  {
   "cell_type": "code",
   "execution_count": 16,
   "metadata": {},
   "outputs": [],
   "source": [
    "# df[['Год', 'Месяц', 'Сумма отгрузки, с НДС, руб']]\\\n",
    "#     .groupby(['Год', 'Месяц']).sum()"
   ]
  },
  {
   "cell_type": "markdown",
   "metadata": {},
   "source": [
    "### Сверка с данными других отчётов (например SQL), анализ в случае спорных моментов"
   ]
  },
  {
   "cell_type": "code",
   "execution_count": 22,
   "metadata": {},
   "outputs": [],
   "source": [
    "# df.loc[((df['Distributor'] == 'Русский Свет (Тверь)') & (df['Месяц'] == 'Январь')),\n",
    "#         ('Distributor','Год', 'Месяц', 'Сумма отгрузки, с НДС, руб')]\\\n",
    "#         .groupby(['Distributor','Год', 'Месяц']).sum()"
   ]
  },
  {
   "cell_type": "markdown",
   "metadata": {},
   "source": [
    "### Заполняем пустые поля для корректной агрегации данных"
   ]
  },
  {
   "cell_type": "code",
   "execution_count": 25,
   "metadata": {},
   "outputs": [
    {
     "name": "stdout",
     "output_type": "stream",
     "text": [
      "<class 'pandas.core.frame.DataFrame'>\n",
      "Int64Index: 3725625 entries, 0 to 1859142\n",
      "Data columns (total 12 columns):\n",
      " #   Column                         Dtype  \n",
      "---  ------                         -----  \n",
      " 0   Код дистрибьютора              int64  \n",
      " 1   Distributor                    object \n",
      " 2   Филиал                         object \n",
      " 3   ДДП                            object \n",
      " 4   Наименование товара            object \n",
      " 5   Название товара дистрибьютора  object \n",
      " 6   Артикул товара дистрибьютора   object \n",
      " 7   Сумма закупки, с НДС, руб      float64\n",
      " 8   Сумма отгрузки, с НДС, руб     float64\n",
      " 9   Год                            int64  \n",
      " 10  Месяц                          object \n",
      " 11  Тип операции                   object \n",
      "dtypes: float64(2), int64(2), object(8)\n",
      "memory usage: 369.5+ MB\n"
     ]
    }
   ],
   "source": [
    "df.info()"
   ]
  },
  {
   "cell_type": "code",
   "execution_count": 24,
   "metadata": {},
   "outputs": [],
   "source": [
    "df.fillna(0, inplace=True)"
   ]
  },
  {
   "cell_type": "markdown",
   "metadata": {},
   "source": [
    "### Загружаем классификатор номенклатуры"
   ]
  },
  {
   "cell_type": "code",
   "execution_count": 26,
   "metadata": {},
   "outputs": [],
   "source": [
    "# Загружаем классификатор номенклатуры\n",
    "file_Class_Nom = 'C:/Users/lazarevnv/Desktop/НСИ, кубы и т.д/fac_КлассификаторНоменклатуры_07_10_2021.xlsx'\n",
    "\n",
    "df_Class_Nom =  pd.ExcelFile(file_Class_Nom)"
   ]
  },
  {
   "cell_type": "code",
   "execution_count": 27,
   "metadata": {},
   "outputs": [
    {
     "name": "stdout",
     "output_type": "stream",
     "text": [
      "['Класс']\n"
     ]
    }
   ],
   "source": [
    "print(df_Class_Nom.sheet_names)"
   ]
  },
  {
   "cell_type": "code",
   "execution_count": 28,
   "metadata": {},
   "outputs": [],
   "source": [
    "df_Class_Nom = df_Class_Nom.parse('Класс')"
   ]
  },
  {
   "cell_type": "code",
   "execution_count": 29,
   "metadata": {},
   "outputs": [
    {
     "data": {
      "text/plain": [
       "(78526, 37)"
      ]
     },
     "execution_count": 29,
     "metadata": {},
     "output_type": "execute_result"
    }
   ],
   "source": [
    "df_Class_Nom.shape"
   ]
  },
  {
   "cell_type": "markdown",
   "metadata": {},
   "source": [
    "### Объединяем отчёт и классификатор"
   ]
  },
  {
   "cell_type": "code",
   "execution_count": 32,
   "metadata": {},
   "outputs": [],
   "source": [
    "# df.tail(2)"
   ]
  },
  {
   "cell_type": "code",
   "execution_count": 33,
   "metadata": {},
   "outputs": [
    {
     "data": {
      "text/html": [
       "<div>\n",
       "<style scoped>\n",
       "    .dataframe tbody tr th:only-of-type {\n",
       "        vertical-align: middle;\n",
       "    }\n",
       "\n",
       "    .dataframe tbody tr th {\n",
       "        vertical-align: top;\n",
       "    }\n",
       "\n",
       "    .dataframe thead th {\n",
       "        text-align: right;\n",
       "    }\n",
       "</style>\n",
       "<table border=\"1\" class=\"dataframe\">\n",
       "  <thead>\n",
       "    <tr style=\"text-align: right;\">\n",
       "      <th></th>\n",
       "      <th>Distributor</th>\n",
       "      <th>Артикул товара дистрибьютора</th>\n",
       "      <th>Название товара дистрибьютора</th>\n",
       "      <th>Год</th>\n",
       "      <th>Месяц</th>\n",
       "      <th>Сумма закупки, с НДС, руб</th>\n",
       "      <th>Сумма отгрузки, с НДС, руб</th>\n",
       "    </tr>\n",
       "  </thead>\n",
       "  <tbody>\n",
       "    <tr>\n",
       "      <th>0</th>\n",
       "      <td>АВЕНТА (Брянск)</td>\n",
       "      <td>MKP42-N-02-30-20</td>\n",
       "      <td>KREPTA 3 Корпус пластиковый КМПн 2/2 IP30 белы...</td>\n",
       "      <td>2020</td>\n",
       "      <td>Март</td>\n",
       "      <td>0.0</td>\n",
       "      <td>287.1</td>\n",
       "    </tr>\n",
       "    <tr>\n",
       "      <th>1</th>\n",
       "      <td>АВЕНТА (Брянск)</td>\n",
       "      <td>MKP42-N-04-30-12</td>\n",
       "      <td>KREPTA 3 Корпус пластиковый КМПн 2/4 IP30 белы...</td>\n",
       "      <td>2020</td>\n",
       "      <td>Март</td>\n",
       "      <td>0.0</td>\n",
       "      <td>711.0</td>\n",
       "    </tr>\n",
       "  </tbody>\n",
       "</table>\n",
       "</div>"
      ],
      "text/plain": [
       "       Distributor Артикул товара дистрибьютора  \\\n",
       "0  АВЕНТА (Брянск)             MKP42-N-02-30-20   \n",
       "1  АВЕНТА (Брянск)             MKP42-N-04-30-12   \n",
       "\n",
       "                       Название товара дистрибьютора   Год Месяц  \\\n",
       "0  KREPTA 3 Корпус пластиковый КМПн 2/2 IP30 белы...  2020  Март   \n",
       "1  KREPTA 3 Корпус пластиковый КМПн 2/4 IP30 белы...  2020  Март   \n",
       "\n",
       "   Сумма закупки, с НДС, руб  Сумма отгрузки, с НДС, руб  \n",
       "0                        0.0                       287.1  \n",
       "1                        0.0                       711.0  "
      ]
     },
     "execution_count": 33,
     "metadata": {},
     "output_type": "execute_result"
    }
   ],
   "source": [
    "df_ot = df[['Distributor', 'Артикул товара дистрибьютора', 'Название товара дистрибьютора', 'Год', 'Месяц', 'Сумма закупки, с НДС, руб','Сумма отгрузки, с НДС, руб']]\n",
    "df_ot.head(2)"
   ]
  },
  {
   "cell_type": "code",
   "execution_count": 34,
   "metadata": {},
   "outputs": [],
   "source": [
    "# df_Class_Nom.columns"
   ]
  },
  {
   "cell_type": "code",
   "execution_count": 35,
   "metadata": {},
   "outputs": [],
   "source": [
    "# df_Class_Nom[['Направление',\n",
    "#        'Направление Деятельности', 'Категория', 'Группа', 'Подгруппа',\n",
    "#        'ПодПодГруппа', 'ПродактМенеджер', 'Артикул',\n",
    "#        'НаименованиеНоменклатуры']].tail(5)"
   ]
  },
  {
   "cell_type": "code",
   "execution_count": 36,
   "metadata": {},
   "outputs": [],
   "source": [
    "# Создаём урезанный классификтор по 2м полям\n",
    "df_Class_1 = df_Class_Nom[['Артикул', 'Направление Деятельности']]"
   ]
  },
  {
   "cell_type": "code",
   "execution_count": 37,
   "metadata": {},
   "outputs": [
    {
     "data": {
      "text/plain": [
       "(3725625, 7)"
      ]
     },
     "execution_count": 37,
     "metadata": {},
     "output_type": "execute_result"
    }
   ],
   "source": [
    "df_ot.shape"
   ]
  },
  {
   "cell_type": "code",
   "execution_count": 38,
   "metadata": {},
   "outputs": [],
   "source": [
    "# Добавляем в отчёт нужные поля из классификатора\n",
    "df_ot_class = pd.merge(df_ot, df_Class_1, left_on = ['Артикул товара дистрибьютора'], right_on = ['Артикул'], how = 'left')"
   ]
  },
  {
   "cell_type": "code",
   "execution_count": 39,
   "metadata": {},
   "outputs": [
    {
     "data": {
      "text/plain": [
       "(3725625, 9)"
      ]
     },
     "execution_count": 39,
     "metadata": {},
     "output_type": "execute_result"
    }
   ],
   "source": [
    "df_ot_class.shape"
   ]
  },
  {
   "cell_type": "code",
   "execution_count": 87,
   "metadata": {},
   "outputs": [],
   "source": [
    "# df_ot_class[['Год', 'Месяц', 'Сумма отгрузки, с НДС, руб']]\\\n",
    "#     .groupby(['Год','Месяц']).sum()"
   ]
  },
  {
   "cell_type": "code",
   "execution_count": 40,
   "metadata": {},
   "outputs": [
    {
     "data": {
      "text/html": [
       "<div>\n",
       "<style scoped>\n",
       "    .dataframe tbody tr th:only-of-type {\n",
       "        vertical-align: middle;\n",
       "    }\n",
       "\n",
       "    .dataframe tbody tr th {\n",
       "        vertical-align: top;\n",
       "    }\n",
       "\n",
       "    .dataframe thead th {\n",
       "        text-align: right;\n",
       "    }\n",
       "</style>\n",
       "<table border=\"1\" class=\"dataframe\">\n",
       "  <thead>\n",
       "    <tr style=\"text-align: right;\">\n",
       "      <th></th>\n",
       "      <th>Distributor</th>\n",
       "      <th>Артикул товара дистрибьютора</th>\n",
       "      <th>Название товара дистрибьютора</th>\n",
       "      <th>Год</th>\n",
       "      <th>Месяц</th>\n",
       "      <th>Сумма закупки, с НДС, руб</th>\n",
       "      <th>Сумма отгрузки, с НДС, руб</th>\n",
       "      <th>Артикул</th>\n",
       "      <th>Направление Деятельности</th>\n",
       "    </tr>\n",
       "  </thead>\n",
       "  <tbody>\n",
       "    <tr>\n",
       "      <th>0</th>\n",
       "      <td>АВЕНТА (Брянск)</td>\n",
       "      <td>MKP42-N-02-30-20</td>\n",
       "      <td>KREPTA 3 Корпус пластиковый КМПн 2/2 IP30 белы...</td>\n",
       "      <td>2020</td>\n",
       "      <td>Март</td>\n",
       "      <td>0.0</td>\n",
       "      <td>287.1</td>\n",
       "      <td>MKP42-N-02-30-20</td>\n",
       "      <td>04. Корпуса</td>\n",
       "    </tr>\n",
       "    <tr>\n",
       "      <th>1</th>\n",
       "      <td>АВЕНТА (Брянск)</td>\n",
       "      <td>MKP42-N-04-30-12</td>\n",
       "      <td>KREPTA 3 Корпус пластиковый КМПн 2/4 IP30 белы...</td>\n",
       "      <td>2020</td>\n",
       "      <td>Март</td>\n",
       "      <td>0.0</td>\n",
       "      <td>711.0</td>\n",
       "      <td>MKP42-N-04-30-12</td>\n",
       "      <td>04. Корпуса</td>\n",
       "    </tr>\n",
       "  </tbody>\n",
       "</table>\n",
       "</div>"
      ],
      "text/plain": [
       "       Distributor Артикул товара дистрибьютора  \\\n",
       "0  АВЕНТА (Брянск)             MKP42-N-02-30-20   \n",
       "1  АВЕНТА (Брянск)             MKP42-N-04-30-12   \n",
       "\n",
       "                       Название товара дистрибьютора   Год Месяц  \\\n",
       "0  KREPTA 3 Корпус пластиковый КМПн 2/2 IP30 белы...  2020  Март   \n",
       "1  KREPTA 3 Корпус пластиковый КМПн 2/4 IP30 белы...  2020  Март   \n",
       "\n",
       "   Сумма закупки, с НДС, руб  Сумма отгрузки, с НДС, руб           Артикул  \\\n",
       "0                        0.0                       287.1  MKP42-N-02-30-20   \n",
       "1                        0.0                       711.0  MKP42-N-04-30-12   \n",
       "\n",
       "  Направление Деятельности  \n",
       "0              04. Корпуса  \n",
       "1              04. Корпуса  "
      ]
     },
     "execution_count": 40,
     "metadata": {},
     "output_type": "execute_result"
    }
   ],
   "source": [
    "df_ot_class.head(2)"
   ]
  },
  {
   "cell_type": "code",
   "execution_count": 41,
   "metadata": {},
   "outputs": [
    {
     "data": {
      "text/plain": [
       "array(['04. Корпуса', '01. ОРЭ', '10. IEK - светотехника', '05. КНС',\n",
       "       '30. Промавтоматизация', nan, '20. ITK', '40. Прочее'],\n",
       "      dtype=object)"
      ]
     },
     "execution_count": 41,
     "metadata": {},
     "output_type": "execute_result"
    }
   ],
   "source": [
    "df_ot_class['Направление Деятельности'].unique()"
   ]
  },
  {
   "cell_type": "markdown",
   "metadata": {},
   "source": [
    "### Загружаем вспомогательный классификатор"
   ]
  },
  {
   "cell_type": "code",
   "execution_count": 42,
   "metadata": {},
   "outputs": [
    {
     "name": "stdout",
     "output_type": "stream",
     "text": [
      "['Лист2', 'Направление', 'Направления_деятельности', 'Компании', 'Условия']\n"
     ]
    }
   ],
   "source": [
    "file_klass_dop = 'C:/Users/lazarevnv/Desktop/НСИ, кубы и т.д/Доп_классификатор_основной.xlsx'\n",
    "df_klass_dop = pd.ExcelFile(file_klass_dop)\n",
    "print(df_klass_dop.sheet_names)"
   ]
  },
  {
   "cell_type": "code",
   "execution_count": 71,
   "metadata": {},
   "outputs": [],
   "source": [
    "# df_dop = df_klass_dop.parse('Направления_деятельности')"
   ]
  },
  {
   "cell_type": "code",
   "execution_count": 43,
   "metadata": {},
   "outputs": [],
   "source": [
    "df_dop_companies =  df_klass_dop.parse('Компании')"
   ]
  },
  {
   "cell_type": "code",
   "execution_count": 44,
   "metadata": {},
   "outputs": [],
   "source": [
    "df_dop_conditions =  df_klass_dop.parse('Условия')"
   ]
  },
  {
   "cell_type": "code",
   "execution_count": 46,
   "metadata": {},
   "outputs": [],
   "source": [
    "# df_dop_companies.head(200)"
   ]
  },
  {
   "cell_type": "code",
   "execution_count": 48,
   "metadata": {},
   "outputs": [],
   "source": [
    "# df_dop_conditions.head(200)"
   ]
  },
  {
   "cell_type": "code",
   "execution_count": 49,
   "metadata": {},
   "outputs": [],
   "source": [
    "# объединяем вспомогательные классификаторы в один\n",
    "df_dop = pd.merge(df_dop_companies, df_dop_conditions, on = 'Контракт', how = 'left')"
   ]
  },
  {
   "cell_type": "code",
   "execution_count": 58,
   "metadata": {},
   "outputs": [],
   "source": [
    "# df_dop[:60]"
   ]
  },
  {
   "cell_type": "code",
   "execution_count": 59,
   "metadata": {},
   "outputs": [
    {
     "data": {
      "text/plain": [
       "Index(['Distributor', 'Артикул товара дистрибьютора',\n",
       "       'Название товара дистрибьютора', 'Год', 'Месяц',\n",
       "       'Сумма закупки, с НДС, руб', 'Сумма отгрузки, с НДС, руб', 'Артикул',\n",
       "       'Направление Деятельности'],\n",
       "      dtype='object')"
      ]
     },
     "execution_count": 59,
     "metadata": {},
     "output_type": "execute_result"
    }
   ],
   "source": [
    "df_ot_class.columns"
   ]
  },
  {
   "cell_type": "code",
   "execution_count": 60,
   "metadata": {},
   "outputs": [
    {
     "data": {
      "text/plain": [
       "Index(['Компания', 'Контракт', 'Направления деятельности',\n",
       "       'Направления_бонус'],\n",
       "      dtype='object')"
      ]
     },
     "execution_count": 60,
     "metadata": {},
     "output_type": "execute_result"
    }
   ],
   "source": [
    "df_dop.columns"
   ]
  },
  {
   "cell_type": "code",
   "execution_count": 61,
   "metadata": {},
   "outputs": [
    {
     "data": {
      "text/plain": [
       "((3725625, 9), (208, 4))"
      ]
     },
     "execution_count": 61,
     "metadata": {},
     "output_type": "execute_result"
    }
   ],
   "source": [
    "df_ot_class.shape, df_dop.shape"
   ]
  },
  {
   "cell_type": "code",
   "execution_count": 62,
   "metadata": {},
   "outputs": [],
   "source": [
    "# объединяем крайний отчет и вспомогательный классификатор\n",
    "df_ot_class_dop = pd.merge(df_ot_class, df_dop, left_on = ['Distributor', 'Направление Деятельности'], right_on = ['Компания', 'Направления деятельности'], how = 'left')"
   ]
  },
  {
   "cell_type": "code",
   "execution_count": 63,
   "metadata": {},
   "outputs": [
    {
     "data": {
      "text/plain": [
       "Index(['Distributor', 'Артикул товара дистрибьютора',\n",
       "       'Название товара дистрибьютора', 'Год', 'Месяц',\n",
       "       'Сумма закупки, с НДС, руб', 'Сумма отгрузки, с НДС, руб', 'Артикул',\n",
       "       'Направление Деятельности', 'Компания', 'Контракт',\n",
       "       'Направления деятельности', 'Направления_бонус'],\n",
       "      dtype='object')"
      ]
     },
     "execution_count": 63,
     "metadata": {},
     "output_type": "execute_result"
    }
   ],
   "source": [
    "df_ot_class_dop.columns"
   ]
  },
  {
   "cell_type": "code",
   "execution_count": 64,
   "metadata": {},
   "outputs": [
    {
     "data": {
      "text/plain": [
       "(3725625, 13)"
      ]
     },
     "execution_count": 64,
     "metadata": {},
     "output_type": "execute_result"
    }
   ],
   "source": [
    "df_ot_class_dop.shape"
   ]
  },
  {
   "cell_type": "code",
   "execution_count": 66,
   "metadata": {},
   "outputs": [],
   "source": [
    "# df_ot_class_dop.tail()"
   ]
  },
  {
   "cell_type": "code",
   "execution_count": 68,
   "metadata": {},
   "outputs": [],
   "source": [
    "# df_dop_companies['Компания'].tolist()"
   ]
  },
  {
   "cell_type": "markdown",
   "metadata": {},
   "source": [
    "### Применяем conditions_companies когда нужно выбрать конкретные комании из всех"
   ]
  },
  {
   "cell_type": "code",
   "execution_count": 59,
   "metadata": {},
   "outputs": [],
   "source": [
    "# conditions_companies = ((df_ot_class_dop['Компания'] == 'Название (Брянск)')\n",
    "#                         |(df_ot_class_dop['Компания'] == 'Название (Воронеж)')\n",
    "#                         |(df_ot_class_dop['Компания'] == 'Название (Барнаул)')\n",
    "#                         |(df_ot_class_dop['Компания'] == 'Название (ВАЯК) (Курган)')\n",
    "#                         |(df_ot_class_dop['Компания'] == 'Название (Москва)')\n",
    "#                         |(df_ot_class_dop['Компания'] == 'Название (Краснодар)')\n",
    "#                         |(df_ot_class_dop['Компания'] == 'Название (Москва)')\n",
    "#                         |(df_ot_class_dop['Компания'] == 'Название (Пенза)')\n",
    "#                         |(df_ot_class_dop['Компания'] == 'Название (Москва)')\n",
    "#                         |(df_ot_class_dop['Компания'] == 'Название (Иркутск)')\n",
    "#                         |(df_ot_class_dop['Компания'] == 'Название(Москва)')                \n",
    "#                        )"
   ]
  },
  {
   "cell_type": "code",
   "execution_count": 70,
   "metadata": {},
   "outputs": [],
   "source": [
    "# df_ot_class_dop.shape"
   ]
  },
  {
   "cell_type": "code",
   "execution_count": 65,
   "metadata": {},
   "outputs": [],
   "source": [
    "# df_ot_class_dop = df_ot_class_dop.loc[conditions_companies]"
   ]
  },
  {
   "cell_type": "code",
   "execution_count": 71,
   "metadata": {},
   "outputs": [],
   "source": [
    "# df_ot_class_dop.shape"
   ]
  },
  {
   "cell_type": "code",
   "execution_count": 69,
   "metadata": {},
   "outputs": [],
   "source": [
    "# df_ot_class_dop.tail(2)"
   ]
  },
  {
   "cell_type": "markdown",
   "metadata": {},
   "source": [
    "### Группируем итоговый отчёт"
   ]
  },
  {
   "cell_type": "code",
   "execution_count": 95,
   "metadata": {},
   "outputs": [],
   "source": [
    "# Выбираем только необходимые поля\n",
    "df_ot_class_dop = df_ot_class_dop[['Distributor', 'Год',\n",
    "       'Месяц', 'Сумма закупки, с НДС, руб', 'Сумма отгрузки, с НДС, руб', \n",
    "       'Направление Деятельности','Направления_бонус']]\n",
    "\n",
    "df_ot_class_dop.tail(2)"
   ]
  },
  {
   "cell_type": "code",
   "execution_count": 76,
   "metadata": {},
   "outputs": [
    {
     "data": {
      "text/plain": [
       "Index(['Distributor', 'Год', 'Месяц', 'Сумма закупки, с НДС, руб',\n",
       "       'Сумма отгрузки, с НДС, руб', 'Направление Деятельности',\n",
       "       'Направления_бонус'],\n",
       "      dtype='object')"
      ]
     },
     "execution_count": 76,
     "metadata": {},
     "output_type": "execute_result"
    }
   ],
   "source": [
    "df_ot_class_dop.columns"
   ]
  },
  {
   "cell_type": "markdown",
   "metadata": {},
   "source": [
    "### Заполняем пустые поля 0"
   ]
  },
  {
   "cell_type": "code",
   "execution_count": 77,
   "metadata": {},
   "outputs": [],
   "source": [
    "# ещё раз на всякий случай заполняем пустые поля\n",
    "df_ot_class_dop.fillna(0, inplace=True)"
   ]
  },
  {
   "cell_type": "code",
   "execution_count": 80,
   "metadata": {},
   "outputs": [],
   "source": [
    "# df_ot_class_dop[['Distributor','Год', 'Месяц', 'Направления_бонус', 'Сумма отгрузки, с НДС, руб']]\\\n",
    "#     .groupby(['Distributor','Год','Направления_бонус']).sum()"
   ]
  },
  {
   "cell_type": "code",
   "execution_count": 81,
   "metadata": {},
   "outputs": [],
   "source": [
    "# df_ot_class_dop.info()"
   ]
  },
  {
   "cell_type": "markdown",
   "metadata": {},
   "source": [
    "### Группируем"
   ]
  },
  {
   "cell_type": "code",
   "execution_count": 82,
   "metadata": {},
   "outputs": [
    {
     "data": {
      "text/plain": [
       "Index(['Distributor', 'Год', 'Месяц', 'Сумма закупки, с НДС, руб',\n",
       "       'Сумма отгрузки, с НДС, руб', 'Направление Деятельности',\n",
       "       'Направления_бонус'],\n",
       "      dtype='object')"
      ]
     },
     "execution_count": 82,
     "metadata": {},
     "output_type": "execute_result"
    }
   ],
   "source": [
    "df_ot_class_dop.columns"
   ]
  },
  {
   "cell_type": "code",
   "execution_count": 83,
   "metadata": {},
   "outputs": [],
   "source": [
    "# группируем\n",
    "df_result = df_ot_class_dop[['Distributor','Год', 'Месяц', 'Направления_бонус','Сумма закупки, с НДС, руб', 'Сумма отгрузки, с НДС, руб']].groupby(['Distributor','Год','Направления_бонус']).sum()"
   ]
  },
  {
   "cell_type": "code",
   "execution_count": 84,
   "metadata": {},
   "outputs": [],
   "source": [
    "# сбрасываем индекс\n",
    "df_result = df_result.reset_index()\n"
   ]
  },
  {
   "cell_type": "code",
   "execution_count": 87,
   "metadata": {},
   "outputs": [],
   "source": [
    "# df_result"
   ]
  },
  {
   "cell_type": "code",
   "execution_count": 86,
   "metadata": {},
   "outputs": [],
   "source": [
    "df_result.to_excel(r'C:/Users/lazarevnv/Desktop/Архив ДП/Запросы от РФО/Бонус годовой 4кв 21г запрос Козлова/df_result_19.01.xlsx', index=False)"
   ]
  },
  {
   "cell_type": "markdown",
   "metadata": {},
   "source": [
    "### Вспомогательные вычисления для проверки"
   ]
  },
  {
   "cell_type": "code",
   "execution_count": 94,
   "metadata": {},
   "outputs": [],
   "source": [
    "# собираем все корректировки данных в один метод при необходимости повторного расчета\n",
    "\n",
    "def corrections(df):\n",
    "    # Загружаем классификатор номенклатуры\n",
    "    file_Class_Nom = 'C:/Users/lazarevnv/Desktop/НСИ, кубы и т.д/fac_КлассификаторНоменклатуры_07_10_2021.xlsx'\n",
    "    df_Class_Nom =  pd.ExcelFile(file_Class_Nom)\n",
    "    df_Class_Nom = df_Class_Nom.parse('Класс')\n",
    "    \n",
    "    #     формируем df_ot\n",
    "    df_ot = df[['Distributor', 'Артикул товара дистрибьютора', 'Название товара дистрибьютора', 'Год', 'Месяц', 'Сумма закупки, с НДС, руб','Сумма отгрузки, с НДС, руб']]\n",
    "    #     формируем df_Class_1\n",
    "    df_Class_1 = df_Class_Nom[['Артикул', 'Направление Деятельности']]\n",
    "    #     мержим, добавляем направление деятельности, получаем df_ot_class\n",
    "    df_ot_class = pd.merge(df_ot, df_Class_1, left_on = ['Артикул товара дистрибьютора'], right_on = ['Артикул'], how = 'left')\n",
    "    \n",
    "    #     Загружаем вспомогательный классификатор\n",
    "    file_klass_dop = 'C:/Users/lazarevnv/Desktop/НСИ, кубы и т.д/Доп_классификатор_основной.xlsx'\n",
    "    df_klass_dop = pd.ExcelFile(file_klass_dop)\n",
    "    \n",
    "    #     формируем df_dop_companies \n",
    "    df_dop_companies =  df_klass_dop.parse('Компании')\n",
    "    #     формируем df_dop_conditions\n",
    "    df_dop_conditions =  df_klass_dop.parse('Условия')\n",
    "    #     формируем df_dop\n",
    "    df_dop = pd.merge(df_dop_companies, df_dop_conditions, on = 'Контракт', how = 'left')\n",
    "    #    мержим дальше, получаем df_ot_class_dop \n",
    "    df_ot_class_dop = pd.merge(df_ot_class, df_dop, left_on = ['Distributor', 'Направление Деятельности'],\\\n",
    "                               right_on = ['Компания', 'Направления деятельности'], how = 'left')\n",
    "    #     выбираем нужные поля\n",
    "    df_ot_class_dop = df_ot_class_dop[['Distributor', 'Год',\n",
    "       'Месяц', 'Сумма закупки, с НДС, руб', 'Сумма отгрузки, с НДС, руб', \n",
    "       'Направление Деятельности','Направления_бонус']]\n",
    "    #     Заполняем пустые поля 0\n",
    "    df_ot_class_dop.fillna(0, inplace=True)\n",
    "    \n",
    "    #    Группируем\n",
    "    df_result = df_ot_class_dop[['Distributor','Год', 'Месяц', 'Направления_бонус',\\\n",
    "                                 'Сумма закупки, с НДС, руб', 'Сумма отгрузки, с НДС, руб']].\\\n",
    "                                groupby(['Distributor','Год','Направления_бонус']).sum()\n",
    "    df_result = df_result.reset_index()\n",
    "    \n",
    "    return df_result"
   ]
  },
  {
   "cell_type": "code",
   "execution_count": 89,
   "metadata": {},
   "outputs": [],
   "source": [
    "# df[['Год', 'Сумма отгрузки, с НДС, руб']]\\\n",
    "#     .groupby(['Год']).sum()"
   ]
  },
  {
   "cell_type": "code",
   "execution_count": 48,
   "metadata": {},
   "outputs": [],
   "source": [
    "# df_help = df[['Год', 'Сумма отгрузки, с НДС, руб']]\\\n",
    "#     .groupby(['Год']).sum()\n",
    "# df_help = df_help.reset_index()\n",
    "# df_help.to_excel(r'C:/Users/lazarevnv/Desktop/Расчёты/Минимакс_1кв/Расчёт 07.05.21/help1.xlsx', index=False)"
   ]
  },
  {
   "cell_type": "code",
   "execution_count": 90,
   "metadata": {},
   "outputs": [],
   "source": [
    "# df_ot[['Год', 'Сумма отгрузки, с НДС, руб']]\\\n",
    "#     .groupby(['Год']).sum()"
   ]
  },
  {
   "cell_type": "code",
   "execution_count": 60,
   "metadata": {},
   "outputs": [],
   "source": [
    "# df_help = df_ot[['Год', 'Сумма отгрузки, с НДС, руб']]\\\n",
    "#     .groupby(['Год']).sum()\n",
    "# df_help = df_help.reset_index()\n",
    "# df_help.to_excel(r'C:/Users/lazarevnv/Desktop/Расчёты/Минимакс_1кв/Расчёт 07.05.21/help2.xlsx', index=False)"
   ]
  },
  {
   "cell_type": "code",
   "execution_count": 91,
   "metadata": {},
   "outputs": [],
   "source": [
    "# df_ot_class[['Год', 'Сумма отгрузки, с НДС, руб']]\\\n",
    "#     .groupby(['Год']).sum()"
   ]
  },
  {
   "cell_type": "code",
   "execution_count": 62,
   "metadata": {},
   "outputs": [],
   "source": [
    "# df_help = df_ot_class[['Год', 'Сумма отгрузки, с НДС, руб']]\\\n",
    "#     .groupby(['Год']).sum()\n",
    "# df_help = df_help.reset_index()\n",
    "# df_help.to_excel(r'C:/Users/lazarevnv/Desktop/Расчёты/Минимакс_1кв/Расчёт 07.05.21/help3.xlsx', index=False)"
   ]
  },
  {
   "cell_type": "code",
   "execution_count": 92,
   "metadata": {},
   "outputs": [],
   "source": [
    "# df_ot_class_dop[['Год', 'Сумма отгрузки, с НДС, руб']]\\\n",
    "#     .groupby(['Год']).sum()"
   ]
  },
  {
   "cell_type": "code",
   "execution_count": 64,
   "metadata": {},
   "outputs": [],
   "source": [
    "# df_help = df_ot_class_dop[['Год', 'Сумма отгрузки, с НДС, руб']]\\\n",
    "#     .groupby(['Год']).sum()\n",
    "# df_help = df_help.reset_index()\n",
    "# df_help.to_excel(r'C:/Users/lazarevnv/Desktop/Расчёты/Минимакс_1кв/Расчёт 07.05.21/help4.xlsx', index=False)"
   ]
  },
  {
   "cell_type": "code",
   "execution_count": 93,
   "metadata": {},
   "outputs": [],
   "source": [
    "# df_result[['Год', 'Сумма отгрузки, с НДС, руб']]\\\n",
    "#     .groupby(['Год']).sum()"
   ]
  }
 ],
 "metadata": {
  "kernelspec": {
   "display_name": "Python 3",
   "language": "python",
   "name": "python3"
  },
  "language_info": {
   "codemirror_mode": {
    "name": "ipython",
    "version": 3
   },
   "file_extension": ".py",
   "mimetype": "text/x-python",
   "name": "python",
   "nbconvert_exporter": "python",
   "pygments_lexer": "ipython3",
   "version": "3.8.5"
  }
 },
 "nbformat": 4,
 "nbformat_minor": 4
}
